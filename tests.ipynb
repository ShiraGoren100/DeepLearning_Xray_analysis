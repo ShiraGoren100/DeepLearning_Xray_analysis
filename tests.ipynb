{
  "nbformat": 4,
  "nbformat_minor": 0,
  "metadata": {
    "colab": {
      "provenance": [],
      "include_colab_link": true
    },
    "kernelspec": {
      "name": "python3",
      "display_name": "Python 3"
    },
    "language_info": {
      "name": "python"
    }
  },
  "cells": [
    {
      "cell_type": "markdown",
      "metadata": {
        "id": "view-in-github",
        "colab_type": "text"
      },
      "source": [
        "<a href=\"https://colab.research.google.com/github/ShiraGoren100/DeepLearning_Xray_analysis/blob/main/tests.ipynb\" target=\"_parent\"><img src=\"https://colab.research.google.com/assets/colab-badge.svg\" alt=\"Open In Colab\"/></a>"
      ]
    },
    {
      "cell_type": "markdown",
      "source": [
        "### Load trained models weights"
      ],
      "metadata": {
        "id": "aSc4JqD0abJk"
      }
    },
    {
      "cell_type": "markdown",
      "source": [
        "Please locate the following weights directory in your drive:\n",
        "LINK"
      ],
      "metadata": {
        "id": "SxrAs_v-bA6f"
      }
    },
    {
      "cell_type": "markdown",
      "source": [
        "In order to load the trained models, change FOLDERNAME to the path of the weights directory in your drive:"
      ],
      "metadata": {
        "id": "0YB6PGW6aaR2"
      }
    },
    {
      "cell_type": "code",
      "execution_count": null,
      "metadata": {
        "id": "yFEvnToM1wi4"
      },
      "outputs": [],
      "source": [
        "from google.colab import drive\n",
        "drive.mount('/content/drive', force_remount=True)\n",
        "\n",
        "# Enter the foldername in Drive where you have saved the code and datasets.\n",
        "FOLDERNAME = 'deepLearningTest/'\n",
        "\n",
        "%cd drive/My\\ Drive\n",
        "%cp -r $FOLDERNAME ../../\n",
        "%cd ../../"
      ]
    },
    {
      "cell_type": "markdown",
      "source": [
        "### 1.1 Binary Classification Model Test"
      ],
      "metadata": {
        "id": "-jsgMbtnbTgR"
      }
    },
    {
      "cell_type": "markdown",
      "source": [
        "### 1.2 Categorial Classification Model Test"
      ],
      "metadata": {
        "id": "JKw84c-zbaiu"
      }
    },
    {
      "cell_type": "markdown",
      "source": [
        "### 2 KNN And T-sne Test"
      ],
      "metadata": {
        "id": "KSOT354Gba2z"
      }
    },
    {
      "cell_type": "markdown",
      "source": [
        "### 3 Anomaly Detection Test"
      ],
      "metadata": {
        "id": "JQVndSzQbbQ3"
      }
    },
    {
      "cell_type": "markdown",
      "source": [
        "### 4 Explainability Test"
      ],
      "metadata": {
        "id": "CCiGg2HrbrrI"
      }
    }
  ]
}